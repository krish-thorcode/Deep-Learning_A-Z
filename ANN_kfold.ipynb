{
  "nbformat": 4,
  "nbformat_minor": 0,
  "metadata": {
    "colab": {
      "name": "ANN_kfold.ipynb",
      "version": "0.3.2",
      "provenance": [],
      "collapsed_sections": [],
      "toc_visible": true,
      "include_colab_link": true
    },
    "kernelspec": {
      "name": "python3",
      "display_name": "Python 3"
    }
  },
  "cells": [
    {
      "cell_type": "markdown",
      "metadata": {
        "id": "view-in-github",
        "colab_type": "text"
      },
      "source": [
        "<a href=\"https://colab.research.google.com/github/krish-thorcode/Deep-Learning_A-Z/blob/master/ANN_kfold.ipynb\" target=\"_parent\"><img src=\"https://colab.research.google.com/assets/colab-badge.svg\" alt=\"Open In Colab\"/></a>"
      ]
    },
    {
      "metadata": {
        "id": "89kenyMsxmlX",
        "colab_type": "code",
        "colab": {
          "base_uri": "https://localhost:8080/",
          "height": 122
        },
        "outputId": "d55d61d8-5967-4fbb-935b-c00b4a0a3153"
      },
      "cell_type": "code",
      "source": [
        "from google.colab import drive\n",
        "drive.mount('/content/drive/')"
      ],
      "execution_count": 1,
      "outputs": [
        {
          "output_type": "stream",
          "text": [
            "Go to this URL in a browser: https://accounts.google.com/o/oauth2/auth?client_id=947318989803-6bn6qk8qdgf4n4g3pfee6491hc0brc4i.apps.googleusercontent.com&redirect_uri=urn%3Aietf%3Awg%3Aoauth%3A2.0%3Aoob&scope=email%20https%3A%2F%2Fwww.googleapis.com%2Fauth%2Fdocs.test%20https%3A%2F%2Fwww.googleapis.com%2Fauth%2Fdrive%20https%3A%2F%2Fwww.googleapis.com%2Fauth%2Fdrive.photos.readonly%20https%3A%2F%2Fwww.googleapis.com%2Fauth%2Fpeopleapi.readonly&response_type=code\n",
            "\n",
            "Enter your authorization code:\n",
            "··········\n",
            "Mounted at /content/drive/\n"
          ],
          "name": "stdout"
        }
      ]
    },
    {
      "metadata": {
        "id": "XIMz2ILxyyju",
        "colab_type": "code",
        "colab": {}
      },
      "cell_type": "code",
      "source": [
        "import numpy as np\n",
        "import pandas as pd"
      ],
      "execution_count": 0,
      "outputs": []
    },
    {
      "metadata": {
        "id": "lCO1x94JzCp4",
        "colab_type": "code",
        "colab": {}
      },
      "cell_type": "code",
      "source": [
        "df = pd.read_csv('./drive/My Drive/Colab Notebooks/DL_A-Z/Churn_Modelling.csv')"
      ],
      "execution_count": 0,
      "outputs": []
    },
    {
      "metadata": {
        "id": "RfriIyId11DX",
        "colab_type": "code",
        "colab": {
          "base_uri": "https://localhost:8080/",
          "height": 85
        },
        "outputId": "a985c968-74ef-4b85-c46d-d27a9ec30bdd"
      },
      "cell_type": "code",
      "source": [
        "df.columns"
      ],
      "execution_count": 7,
      "outputs": [
        {
          "output_type": "execute_result",
          "data": {
            "text/plain": [
              "Index(['RowNumber', 'CustomerId', 'Surname', 'CreditScore', 'Geography',\n",
              "       'Gender', 'Age', 'Tenure', 'Balance', 'NumOfProducts', 'HasCrCard',\n",
              "       'IsActiveMember', 'EstimatedSalary', 'Exited'],\n",
              "      dtype='object')"
            ]
          },
          "metadata": {
            "tags": []
          },
          "execution_count": 7
        }
      ]
    },
    {
      "metadata": {
        "id": "i_lmn7Hr2GhN",
        "colab_type": "code",
        "colab": {}
      },
      "cell_type": "code",
      "source": [
        "x = df.iloc[:, 3:13].values\n",
        "y = df.iloc[:, 13].values"
      ],
      "execution_count": 0,
      "outputs": []
    },
    {
      "metadata": {
        "id": "lmm56S412t0O",
        "colab_type": "code",
        "colab": {}
      },
      "cell_type": "code",
      "source": [
        "from sklearn.preprocessing import LabelEncoder, OneHotEncoder"
      ],
      "execution_count": 0,
      "outputs": []
    },
    {
      "metadata": {
        "id": "K2tBgmPv3Ce0",
        "colab_type": "code",
        "colab": {
          "base_uri": "https://localhost:8080/",
          "height": 34
        },
        "outputId": "b7141d84-e78b-41b4-e047-2be73919ac6d"
      },
      "cell_type": "code",
      "source": [
        "print(x[1])"
      ],
      "execution_count": 40,
      "outputs": [
        {
          "output_type": "stream",
          "text": [
            "[608 'Spain' 'Female' 41 1 83807.86 1 0 1 112542.58]\n"
          ],
          "name": "stdout"
        }
      ]
    },
    {
      "metadata": {
        "id": "DYcjsrhz3JSJ",
        "colab_type": "code",
        "colab": {}
      },
      "cell_type": "code",
      "source": [
        "label_encoder_country = LabelEncoder()\n",
        "x[:, 1] = label_encoder_country.fit_transform(x[:, 1])"
      ],
      "execution_count": 0,
      "outputs": []
    },
    {
      "metadata": {
        "id": "2IG8D5zJ6xUm",
        "colab_type": "code",
        "colab": {
          "base_uri": "https://localhost:8080/",
          "height": 51
        },
        "outputId": "1eef1536-2118-4fe8-b9ee-48d93905d480"
      },
      "cell_type": "code",
      "source": [
        "x[1]"
      ],
      "execution_count": 42,
      "outputs": [
        {
          "output_type": "execute_result",
          "data": {
            "text/plain": [
              "array([608, 2, 'Female', 41, 1, 83807.86, 1, 0, 1, 112542.58],\n",
              "      dtype=object)"
            ]
          },
          "metadata": {
            "tags": []
          },
          "execution_count": 42
        }
      ]
    },
    {
      "metadata": {
        "id": "wj1z-Xcy7NvQ",
        "colab_type": "code",
        "colab": {}
      },
      "cell_type": "code",
      "source": [
        "label_encoder_gender = LabelEncoder()\n",
        "x[:, 2] = label_encoder_gender.fit_transform(x[:, 2])"
      ],
      "execution_count": 0,
      "outputs": []
    },
    {
      "metadata": {
        "id": "hk1SNe097Sdb",
        "colab_type": "code",
        "colab": {
          "base_uri": "https://localhost:8080/",
          "height": 34
        },
        "outputId": "7da23909-0ec3-4eab-98e7-3b15305fd5bd"
      },
      "cell_type": "code",
      "source": [
        "x[1]"
      ],
      "execution_count": 44,
      "outputs": [
        {
          "output_type": "execute_result",
          "data": {
            "text/plain": [
              "array([608, 2, 0, 41, 1, 83807.86, 1, 0, 1, 112542.58], dtype=object)"
            ]
          },
          "metadata": {
            "tags": []
          },
          "execution_count": 44
        }
      ]
    },
    {
      "metadata": {
        "id": "MCyo7Ug35BI2",
        "colab_type": "code",
        "colab": {
          "base_uri": "https://localhost:8080/",
          "height": 139
        },
        "outputId": "615ad027-112c-4c16-d769-fa1a9b8fcf9e"
      },
      "cell_type": "code",
      "source": [
        "onehotencoder = OneHotEncoder(categorical_features = [1])\n",
        "x = onehotencoder.fit_transform(x).toarray()"
      ],
      "execution_count": 45,
      "outputs": [
        {
          "output_type": "stream",
          "text": [
            "/usr/local/lib/python3.6/dist-packages/sklearn/preprocessing/_encoders.py:371: FutureWarning: The handling of integer data will change in version 0.22. Currently, the categories are determined based on the range [0, max(values)], while in the future they will be determined based on the unique values.\n",
            "If you want the future behaviour and silence this warning, you can specify \"categories='auto'\".\n",
            "In case you used a LabelEncoder before this OneHotEncoder to convert the categories to integers, then you can now use the OneHotEncoder directly.\n",
            "  warnings.warn(msg, FutureWarning)\n",
            "/usr/local/lib/python3.6/dist-packages/sklearn/preprocessing/_encoders.py:392: DeprecationWarning: The 'categorical_features' keyword is deprecated in version 0.20 and will be removed in 0.22. You can use the ColumnTransformer instead.\n",
            "  \"use the ColumnTransformer instead.\", DeprecationWarning)\n"
          ],
          "name": "stderr"
        }
      ]
    },
    {
      "metadata": {
        "id": "37YlN0ny7W9z",
        "colab_type": "code",
        "colab": {
          "base_uri": "https://localhost:8080/",
          "height": 51
        },
        "outputId": "bcfa2eff-bd09-4444-e986-d940850b48f1"
      },
      "cell_type": "code",
      "source": [
        "np.set_printoptions(precision=0, suppress=True)\n",
        "print(x[1])"
      ],
      "execution_count": 46,
      "outputs": [
        {
          "output_type": "stream",
          "text": [
            "[     0.      0.      1.    608.      0.     41.      1.  83808.      1.\n",
            "      0.      1. 112543.]\n"
          ],
          "name": "stdout"
        }
      ]
    },
    {
      "metadata": {
        "id": "FCOGiZtZ8CaN",
        "colab_type": "code",
        "colab": {}
      },
      "cell_type": "code",
      "source": [
        "### escaping the dummy variable trap\n",
        "x = x[:, 1:]"
      ],
      "execution_count": 0,
      "outputs": []
    },
    {
      "metadata": {
        "id": "EGqWOXZX4q1n",
        "colab_type": "code",
        "colab": {}
      },
      "cell_type": "code",
      "source": [
        "from sklearn.model_selection import train_test_split"
      ],
      "execution_count": 0,
      "outputs": []
    },
    {
      "metadata": {
        "id": "1RCuBVFw8gPI",
        "colab_type": "code",
        "colab": {}
      },
      "cell_type": "code",
      "source": [
        "x_train, x_test, y_train, y_test = train_test_split(x, y, test_size=0.2, random_state=0)"
      ],
      "execution_count": 0,
      "outputs": []
    },
    {
      "metadata": {
        "id": "ou1n4GUeClB_",
        "colab_type": "code",
        "colab": {
          "base_uri": "https://localhost:8080/",
          "height": 34
        },
        "outputId": "d661a333-898f-418a-ba32-7dc4e3ca8ea2"
      },
      "cell_type": "code",
      "source": [
        "x_train.shape"
      ],
      "execution_count": 66,
      "outputs": [
        {
          "output_type": "execute_result",
          "data": {
            "text/plain": [
              "(8000, 11)"
            ]
          },
          "metadata": {
            "tags": []
          },
          "execution_count": 66
        }
      ]
    },
    {
      "metadata": {
        "id": "8bquwBLe92h4",
        "colab_type": "code",
        "colab": {}
      },
      "cell_type": "code",
      "source": [
        "from keras.wrappers.scikit_learn import KerasClassifier\n",
        "from keras.models import Sequential\n",
        "from keras.layers import Dense"
      ],
      "execution_count": 0,
      "outputs": []
    },
    {
      "metadata": {
        "id": "veqkql2yBgTG",
        "colab_type": "code",
        "colab": {}
      },
      "cell_type": "code",
      "source": [
        "from sklearn.model_selection import cross_val_score"
      ],
      "execution_count": 0,
      "outputs": []
    },
    {
      "metadata": {
        "id": "nNKY1I13-rG-",
        "colab_type": "code",
        "colab": {}
      },
      "cell_type": "code",
      "source": [
        "def build_classifier():\n",
        "  classifier = Sequential()\n",
        "  classifier.add(Dense(input_dim=11, output_dim=6, init='uniform', activation='relu'))\n",
        "  classifier.add(Dense(output_dim=6, init='uniform', activation='relu'))\n",
        "  classifier.add(Dense(output_dim=1, init='uniform', activation='sigmoid'))\n",
        "  classifier.compile(optimizer='adam', loss='binary_crossentropy', metrics=['accuracy'])\n",
        "  return classifier"
      ],
      "execution_count": 0,
      "outputs": []
    },
    {
      "metadata": {
        "id": "DuKRKuiwAlRa",
        "colab_type": "code",
        "colab": {}
      },
      "cell_type": "code",
      "source": [
        "classifier = KerasClassifier(build_fn=build_classifier, batch_size=10, nb_epoch=100)"
      ],
      "execution_count": 0,
      "outputs": []
    },
    {
      "metadata": {
        "id": "0ybdsec2B1kZ",
        "colab_type": "code",
        "colab": {
          "base_uri": "https://localhost:8080/",
          "height": 666
        },
        "outputId": "4e802e91-378a-4a32-998b-c7c5de36a547"
      },
      "cell_type": "code",
      "source": [
        "print('after wrapping, data type of classifier', type(classifier))\n",
        "accuracies = cross_val_score(estimator=classifier, X=x_train, y=y_train, cv=10, n_jobs=1)"
      ],
      "execution_count": 73,
      "outputs": [
        {
          "output_type": "stream",
          "text": [
            "after wrapping, data type of classifier <class 'keras.wrappers.scikit_learn.KerasClassifier'>\n"
          ],
          "name": "stdout"
        },
        {
          "output_type": "stream",
          "text": [
            "/usr/local/lib/python3.6/dist-packages/ipykernel_launcher.py:3: UserWarning: Update your `Dense` call to the Keras 2 API: `Dense(input_dim=11, activation=\"relu\", units=6, kernel_initializer=\"uniform\")`\n",
            "  This is separate from the ipykernel package so we can avoid doing imports until\n",
            "/usr/local/lib/python3.6/dist-packages/ipykernel_launcher.py:4: UserWarning: Update your `Dense` call to the Keras 2 API: `Dense(activation=\"relu\", units=6, kernel_initializer=\"uniform\")`\n",
            "  after removing the cwd from sys.path.\n",
            "/usr/local/lib/python3.6/dist-packages/ipykernel_launcher.py:5: UserWarning: Update your `Dense` call to the Keras 2 API: `Dense(activation=\"sigmoid\", units=1, kernel_initializer=\"uniform\")`\n",
            "  \"\"\"\n"
          ],
          "name": "stderr"
        },
        {
          "output_type": "stream",
          "text": [
            "Epoch 1/1\n",
            "7200/7200 [==============================] - 2s 222us/step - loss: 0.5541 - acc: 0.7936\n",
            "800/800 [==============================] - 0s 431us/step\n",
            "Epoch 1/1\n",
            "7200/7200 [==============================] - 2s 235us/step - loss: 0.5501 - acc: 0.7939\n",
            "800/800 [==============================] - 0s 474us/step\n",
            "Epoch 1/1\n",
            "7200/7200 [==============================] - 2s 247us/step - loss: 0.5454 - acc: 0.7931\n",
            "800/800 [==============================] - 0s 502us/step\n",
            "Epoch 1/1\n",
            "7200/7200 [==============================] - 2s 255us/step - loss: 0.5728 - acc: 0.7853\n",
            "800/800 [==============================] - 0s 576us/step\n",
            "Epoch 1/1\n",
            "7200/7200 [==============================] - 2s 264us/step - loss: 0.5463 - acc: 0.7937\n",
            "800/800 [==============================] - 0s 562us/step\n",
            "Epoch 1/1\n",
            "7200/7200 [==============================] - 2s 273us/step - loss: 0.5944 - acc: 0.7907\n",
            "800/800 [==============================] - 0s 590us/step\n",
            "Epoch 1/1\n",
            "7200/7200 [==============================] - 2s 283us/step - loss: 0.5438 - acc: 0.7956\n",
            "800/800 [==============================] - 1s 629us/step\n",
            "Epoch 1/1\n",
            "7200/7200 [==============================] - 2s 292us/step - loss: 0.5570 - acc: 0.7890\n",
            "800/800 [==============================] - 1s 656us/step\n",
            "Epoch 1/1\n",
            "7200/7200 [==============================] - 2s 304us/step - loss: 0.5529 - acc: 0.7947\n",
            "800/800 [==============================] - 1s 702us/step\n",
            "Epoch 1/1\n",
            "7200/7200 [==============================] - 2s 315us/step - loss: 0.5755 - acc: 0.7867\n",
            "800/800 [==============================] - 1s 762us/step\n"
          ],
          "name": "stdout"
        }
      ]
    },
    {
      "metadata": {
        "id": "Ipll6Bh2Cy2v",
        "colab_type": "code",
        "colab": {}
      },
      "cell_type": "code",
      "source": [
        ""
      ],
      "execution_count": 0,
      "outputs": []
    }
  ]
}
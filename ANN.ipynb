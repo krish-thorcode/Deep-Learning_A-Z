{
  "nbformat": 4,
  "nbformat_minor": 0,
  "metadata": {
    "colab": {
      "name": "ANN.ipynb",
      "version": "0.3.2",
      "provenance": [],
      "toc_visible": true,
      "include_colab_link": true
    },
    "kernelspec": {
      "display_name": "Python 3",
      "language": "python",
      "name": "python3"
    }
  },
  "cells": [
    {
      "cell_type": "markdown",
      "metadata": {
        "id": "view-in-github",
        "colab_type": "text"
      },
      "source": [
        "<a href=\"https://colab.research.google.com/github/krish-thorcode/Deep-Learning_A-Z/blob/master/ANN.ipynb\" target=\"_parent\"><img src=\"https://colab.research.google.com/assets/colab-badge.svg\" alt=\"Open In Colab\"/></a>"
      ]
    },
    {
      "metadata": {
        "id": "O6XRmVg9w7V2",
        "colab_type": "text"
      },
      "cell_type": "markdown",
      "source": [
        "## Importing libraries"
      ]
    },
    {
      "metadata": {
        "id": "pAkItf66w-iR",
        "colab_type": "code",
        "outputId": "ab38e281-2827-41ac-a006-c372d1b0bb23",
        "colab": {
          "base_uri": "https://localhost:8080/",
          "height": 54
        }
      },
      "cell_type": "code",
      "source": [
        "from google.colab import drive\n",
        "drive.mount('/content/drive')"
      ],
      "execution_count": 1,
      "outputs": [
        {
          "output_type": "stream",
          "text": [
            "Drive already mounted at /content/drive; to attempt to forcibly remount, call drive.mount(\"/content/drive\", force_remount=True).\n"
          ],
          "name": "stdout"
        }
      ]
    },
    {
      "metadata": {
        "id": "wCoLBYlHw7V4",
        "colab_type": "code",
        "colab": {}
      },
      "cell_type": "code",
      "source": [
        "import numpy as np\n",
        "import matplotlib.pyplot as plt\n",
        "import pandas as pd"
      ],
      "execution_count": 0,
      "outputs": []
    },
    {
      "metadata": {
        "id": "NtI7RF1Ew7V8",
        "colab_type": "text"
      },
      "cell_type": "markdown",
      "source": [
        "## Importing dataset"
      ]
    },
    {
      "metadata": {
        "id": "E9iAcVMgw7V9",
        "colab_type": "code",
        "colab": {}
      },
      "cell_type": "code",
      "source": [
        "df = pd.read_csv('./drive/My Drive/Colab Notebooks/DL_A-Z/Churn_Modelling.csv')"
      ],
      "execution_count": 0,
      "outputs": []
    },
    {
      "metadata": {
        "id": "EcNdY9lmw7WA",
        "colab_type": "code",
        "outputId": "25d3e603-6e2b-47c2-927b-4d2e8e66f847",
        "colab": {
          "base_uri": "https://localhost:8080/",
          "height": 85
        }
      },
      "cell_type": "code",
      "source": [
        "df.columns"
      ],
      "execution_count": 4,
      "outputs": [
        {
          "output_type": "execute_result",
          "data": {
            "text/plain": [
              "Index(['RowNumber', 'CustomerId', 'Surname', 'CreditScore', 'Geography',\n",
              "       'Gender', 'Age', 'Tenure', 'Balance', 'NumOfProducts', 'HasCrCard',\n",
              "       'IsActiveMember', 'EstimatedSalary', 'Exited'],\n",
              "      dtype='object')"
            ]
          },
          "metadata": {
            "tags": []
          },
          "execution_count": 4
        }
      ]
    },
    {
      "metadata": {
        "id": "6oRXjflUyyGb",
        "colab_type": "text"
      },
      "cell_type": "markdown",
      "source": [
        "#### We do not need RowNumber, CustomerId, Surname in our dataset as they do not actually contribute to the depended variable."
      ]
    },
    {
      "metadata": {
        "id": "mlMkwzNTw7WI",
        "colab_type": "code",
        "colab": {}
      },
      "cell_type": "code",
      "source": [
        "x = df.iloc[:, 3:13].values\n",
        "y = df.iloc[:, 13].values"
      ],
      "execution_count": 0,
      "outputs": []
    },
    {
      "metadata": {
        "id": "wtEs2rRJw7WL",
        "colab_type": "code",
        "outputId": "d379786d-81ab-4c63-dce0-79c52a7b1c2a",
        "colab": {
          "base_uri": "https://localhost:8080/",
          "height": 34
        }
      },
      "cell_type": "code",
      "source": [
        "x.shape, y.shape"
      ],
      "execution_count": 6,
      "outputs": [
        {
          "output_type": "execute_result",
          "data": {
            "text/plain": [
              "((10000, 10), (10000,))"
            ]
          },
          "metadata": {
            "tags": []
          },
          "execution_count": 6
        }
      ]
    },
    {
      "metadata": {
        "id": "XnEhLkcIw7WP",
        "colab_type": "text"
      },
      "cell_type": "markdown",
      "source": [
        "## Encoding categorical data"
      ]
    },
    {
      "metadata": {
        "id": "hAqwe9HNw7WQ",
        "colab_type": "code",
        "colab": {}
      },
      "cell_type": "code",
      "source": [
        "from sklearn.preprocessing import LabelEncoder, OneHotEncoder"
      ],
      "execution_count": 0,
      "outputs": []
    },
    {
      "metadata": {
        "id": "6z6JNHyDw7WT",
        "colab_type": "code",
        "outputId": "b80be8bb-c17c-4f45-f951-3f96918f6700",
        "colab": {
          "base_uri": "https://localhost:8080/",
          "height": 187
        }
      },
      "cell_type": "code",
      "source": [
        "print(x[0:10])"
      ],
      "execution_count": 8,
      "outputs": [
        {
          "output_type": "stream",
          "text": [
            "[[619 'France' 'Female' 42 2 0.0 1 1 1 101348.88]\n",
            " [608 'Spain' 'Female' 41 1 83807.86 1 0 1 112542.58]\n",
            " [502 'France' 'Female' 42 8 159660.8 3 1 0 113931.57]\n",
            " [699 'France' 'Female' 39 1 0.0 2 0 0 93826.63]\n",
            " [850 'Spain' 'Female' 43 2 125510.82 1 1 1 79084.1]\n",
            " [645 'Spain' 'Male' 44 8 113755.78 2 1 0 149756.71]\n",
            " [822 'France' 'Male' 50 7 0.0 2 1 1 10062.8]\n",
            " [376 'Germany' 'Female' 29 4 115046.74 4 1 0 119346.88]\n",
            " [501 'France' 'Male' 44 4 142051.07 2 0 1 74940.5]\n",
            " [684 'France' 'Male' 27 2 134603.88 1 1 1 71725.73]]\n"
          ],
          "name": "stdout"
        }
      ]
    },
    {
      "metadata": {
        "id": "hXO0D50Mw7WW",
        "colab_type": "code",
        "colab": {}
      },
      "cell_type": "code",
      "source": [
        "labelencoder_X_country = LabelEncoder()\n",
        "x[:, 1] = labelencoder_X_country.fit_transform(x[:, 1])"
      ],
      "execution_count": 0,
      "outputs": []
    },
    {
      "metadata": {
        "id": "HNqfgd7ow7WZ",
        "colab_type": "code",
        "outputId": "1dbd9a17-13db-48ee-f8b7-3152bc772f1c",
        "colab": {
          "base_uri": "https://localhost:8080/",
          "height": 51
        }
      },
      "cell_type": "code",
      "source": [
        "print(x[:2])"
      ],
      "execution_count": 10,
      "outputs": [
        {
          "output_type": "stream",
          "text": [
            "[[619 0 'Female' 42 2 0.0 1 1 1 101348.88]\n",
            " [608 2 'Female' 41 1 83807.86 1 0 1 112542.58]]\n"
          ],
          "name": "stdout"
        }
      ]
    },
    {
      "metadata": {
        "id": "fXjqc1Q9w7Wc",
        "colab_type": "code",
        "colab": {}
      },
      "cell_type": "code",
      "source": [
        "labelencoder_X_gender = LabelEncoder()\n",
        "x[:, 2] = labelencoder_X_gender.fit_transform(x[:, 2])"
      ],
      "execution_count": 0,
      "outputs": []
    },
    {
      "metadata": {
        "id": "Cm2gemXRw7We",
        "colab_type": "code",
        "outputId": "2bfe307b-629c-4273-c637-4f779ad0417d",
        "colab": {
          "base_uri": "https://localhost:8080/",
          "height": 187
        }
      },
      "cell_type": "code",
      "source": [
        "print(x[:10])"
      ],
      "execution_count": 12,
      "outputs": [
        {
          "output_type": "stream",
          "text": [
            "[[619 0 0 42 2 0.0 1 1 1 101348.88]\n",
            " [608 2 0 41 1 83807.86 1 0 1 112542.58]\n",
            " [502 0 0 42 8 159660.8 3 1 0 113931.57]\n",
            " [699 0 0 39 1 0.0 2 0 0 93826.63]\n",
            " [850 2 0 43 2 125510.82 1 1 1 79084.1]\n",
            " [645 2 1 44 8 113755.78 2 1 0 149756.71]\n",
            " [822 0 1 50 7 0.0 2 1 1 10062.8]\n",
            " [376 1 0 29 4 115046.74 4 1 0 119346.88]\n",
            " [501 0 1 44 4 142051.07 2 0 1 74940.5]\n",
            " [684 0 1 27 2 134603.88 1 1 1 71725.73]]\n"
          ],
          "name": "stdout"
        }
      ]
    },
    {
      "metadata": {
        "id": "9R4JvV5jC7pJ",
        "colab_type": "text"
      },
      "cell_type": "markdown",
      "source": [
        "We onehot-encode only the Geography attribute values because it contains three distinct values (LabelEncoded into (0, 1, 2)). Later we shall remove one of the three columns generated by onehotencoding of Geography attribute to avoid the dummy variable trap. In case of Gender , which has only two values possible, we do not have to onehot-encode it as if done so, its values will be mapped to the set {0, 1}. In turn, we shall have to eliminate one column from the onehot representation of gender to counter the dummy varible trap. Doing this is essentially the same as stopping at LabelEncoding."
      ]
    },
    {
      "metadata": {
        "id": "xvVG7E9Pw7Wh",
        "colab_type": "code",
        "outputId": "a9d5f0d3-6699-4117-e54b-4bd6ec42d1ca",
        "colab": {
          "base_uri": "https://localhost:8080/",
          "height": 139
        }
      },
      "cell_type": "code",
      "source": [
        "onehotencoder = OneHotEncoder(categorical_features = [1])\n",
        "x = onehotencoder.fit_transform(x).toarray()"
      ],
      "execution_count": 13,
      "outputs": [
        {
          "output_type": "stream",
          "text": [
            "/usr/local/lib/python3.6/dist-packages/sklearn/preprocessing/_encoders.py:371: FutureWarning: The handling of integer data will change in version 0.22. Currently, the categories are determined based on the range [0, max(values)], while in the future they will be determined based on the unique values.\n",
            "If you want the future behaviour and silence this warning, you can specify \"categories='auto'\".\n",
            "In case you used a LabelEncoder before this OneHotEncoder to convert the categories to integers, then you can now use the OneHotEncoder directly.\n",
            "  warnings.warn(msg, FutureWarning)\n",
            "/usr/local/lib/python3.6/dist-packages/sklearn/preprocessing/_encoders.py:392: DeprecationWarning: The 'categorical_features' keyword is deprecated in version 0.20 and will be removed in 0.22. You can use the ColumnTransformer instead.\n",
            "  \"use the ColumnTransformer instead.\", DeprecationWarning)\n"
          ],
          "name": "stderr"
        }
      ]
    },
    {
      "metadata": {
        "id": "wtbK21spw7Wl",
        "colab_type": "code",
        "outputId": "eae1218e-37c0-4144-c696-11b906beb1e9",
        "colab": {
          "base_uri": "https://localhost:8080/",
          "height": 85
        }
      },
      "cell_type": "code",
      "source": [
        "np.set_printoptions(precision=3, suppress=True)\n",
        "print(x[:2])"
      ],
      "execution_count": 14,
      "outputs": [
        {
          "output_type": "stream",
          "text": [
            "[[     1.        0.        0.      619.        0.       42.        2.\n",
            "       0.        1.        1.        1.   101348.88]\n",
            " [     0.        0.        1.      608.        0.       41.        1.\n",
            "   83807.86      1.        0.        1.   112542.58]]\n"
          ],
          "name": "stdout"
        }
      ]
    },
    {
      "metadata": {
        "id": "Gn9uXbcuw7Wp",
        "colab_type": "text"
      },
      "cell_type": "markdown",
      "source": [
        "## Escaping the Dummy Variable Trap"
      ]
    },
    {
      "metadata": {
        "id": "8hbCaoPGw7Wq",
        "colab_type": "code",
        "colab": {}
      },
      "cell_type": "code",
      "source": [
        "x = x[:, 1:]"
      ],
      "execution_count": 0,
      "outputs": []
    },
    {
      "metadata": {
        "id": "CtESSIL8w7Wu",
        "colab_type": "text"
      },
      "cell_type": "markdown",
      "source": [
        "## Split into train and test set"
      ]
    },
    {
      "metadata": {
        "id": "p6Fooq8zw7Wv",
        "colab_type": "code",
        "colab": {}
      },
      "cell_type": "code",
      "source": [
        "from sklearn.model_selection import train_test_split"
      ],
      "execution_count": 0,
      "outputs": []
    },
    {
      "metadata": {
        "id": "UdHPaT_Jw7Wz",
        "colab_type": "code",
        "colab": {}
      },
      "cell_type": "code",
      "source": [
        "x_train, x_test, y_train, y_test = train_test_split(x, y, test_size=0.2, random_state=0)"
      ],
      "execution_count": 0,
      "outputs": []
    },
    {
      "metadata": {
        "id": "1n-wnOUcw7W3",
        "colab_type": "text"
      },
      "cell_type": "markdown",
      "source": [
        "## Feature scaling"
      ]
    },
    {
      "metadata": {
        "id": "wRHgFXN-w7W4",
        "colab_type": "code",
        "colab": {}
      },
      "cell_type": "code",
      "source": [
        "from sklearn.preprocessing import StandardScaler"
      ],
      "execution_count": 0,
      "outputs": []
    },
    {
      "metadata": {
        "id": "J3Bgdx-Pw7W7",
        "colab_type": "code",
        "colab": {}
      },
      "cell_type": "code",
      "source": [
        "standard_scaler = StandardScaler()"
      ],
      "execution_count": 0,
      "outputs": []
    },
    {
      "metadata": {
        "id": "R7iaY9ZKw7W9",
        "colab_type": "code",
        "colab": {}
      },
      "cell_type": "code",
      "source": [
        "x_train = standard_scaler.fit_transform(x_train)\n",
        "x_test = standard_scaler.fit_transform(x_test)"
      ],
      "execution_count": 0,
      "outputs": []
    },
    {
      "metadata": {
        "id": "dXnAiKaCw7W_",
        "colab_type": "text"
      },
      "cell_type": "markdown",
      "source": [
        "## Making the ANN"
      ]
    },
    {
      "metadata": {
        "id": "LxD2_Ehbw7W_",
        "colab_type": "code",
        "outputId": "dbd4a6a1-6a2d-4196-9fc0-aa9705f75d16",
        "colab": {
          "base_uri": "https://localhost:8080/",
          "height": 54
        }
      },
      "cell_type": "code",
      "source": [
        "import keras\n",
        "from keras.models import Sequential\n",
        "from keras.layers import Dense"
      ],
      "execution_count": 21,
      "outputs": [
        {
          "output_type": "stream",
          "text": [
            "Using TensorFlow backend.\n"
          ],
          "name": "stderr"
        }
      ]
    },
    {
      "metadata": {
        "id": "h2HWNPy-w7XE",
        "colab_type": "code",
        "colab": {}
      },
      "cell_type": "code",
      "source": [
        "classifier = Sequential()"
      ],
      "execution_count": 0,
      "outputs": []
    },
    {
      "metadata": {
        "id": "_Q0o2kvsw7XG",
        "colab_type": "code",
        "outputId": "e4bceeef-0662-4b00-9a95-15fbace62d4a",
        "colab": {
          "base_uri": "https://localhost:8080/",
          "height": 54
        }
      },
      "cell_type": "code",
      "source": [
        "x.shape"
      ],
      "execution_count": 23,
      "outputs": [
        {
          "output_type": "execute_result",
          "data": {
            "text/plain": [
              "(10000, 11)"
            ]
          },
          "metadata": {
            "tags": []
          },
          "execution_count": 23
        }
      ]
    },
    {
      "metadata": {
        "id": "RlW0oxppw7XK",
        "colab_type": "code",
        "outputId": "f29a11dd-c192-424e-c92f-02b4e16ef776",
        "colab": {
          "base_uri": "https://localhost:8080/",
          "height": 122
        }
      },
      "cell_type": "code",
      "source": [
        "classifier.add(Dense(input_dim=11, init='uniform', activation='relu', output_dim=6))"
      ],
      "execution_count": 24,
      "outputs": [
        {
          "output_type": "stream",
          "text": [
            "WARNING:tensorflow:From /usr/local/lib/python3.6/dist-packages/tensorflow/python/framework/op_def_library.py:263: colocate_with (from tensorflow.python.framework.ops) is deprecated and will be removed in a future version.\n",
            "Instructions for updating:\n",
            "Colocations handled automatically by placer.\n"
          ],
          "name": "stdout"
        },
        {
          "output_type": "stream",
          "text": [
            "/usr/local/lib/python3.6/dist-packages/ipykernel_launcher.py:1: UserWarning: Update your `Dense` call to the Keras 2 API: `Dense(input_dim=11, activation=\"relu\", units=6, kernel_initializer=\"uniform\")`\n",
            "  \"\"\"Entry point for launching an IPython kernel.\n"
          ],
          "name": "stderr"
        }
      ]
    },
    {
      "metadata": {
        "id": "4vmavN6cw7XN",
        "colab_type": "code",
        "outputId": "89b43c72-a1fb-44b8-d9a5-d4d2814877ef",
        "colab": {
          "base_uri": "https://localhost:8080/",
          "height": 71
        }
      },
      "cell_type": "code",
      "source": [
        "classifier.add(Dense(init='uniform', activation='relu', output_dim=6))"
      ],
      "execution_count": 25,
      "outputs": [
        {
          "output_type": "stream",
          "text": [
            "/usr/local/lib/python3.6/dist-packages/ipykernel_launcher.py:1: UserWarning: Update your `Dense` call to the Keras 2 API: `Dense(activation=\"relu\", units=6, kernel_initializer=\"uniform\")`\n",
            "  \"\"\"Entry point for launching an IPython kernel.\n"
          ],
          "name": "stderr"
        }
      ]
    },
    {
      "metadata": {
        "id": "zQOlay6hw7XQ",
        "colab_type": "code",
        "outputId": "bbe8e93b-1e17-44ec-f227-815f5fa29017",
        "colab": {
          "base_uri": "https://localhost:8080/",
          "height": 71
        }
      },
      "cell_type": "code",
      "source": [
        "classifier.add(Dense(init='uniform', activation='sigmoid', output_dim=1))"
      ],
      "execution_count": 26,
      "outputs": [
        {
          "output_type": "stream",
          "text": [
            "/usr/local/lib/python3.6/dist-packages/ipykernel_launcher.py:1: UserWarning: Update your `Dense` call to the Keras 2 API: `Dense(activation=\"sigmoid\", units=1, kernel_initializer=\"uniform\")`\n",
            "  \"\"\"Entry point for launching an IPython kernel.\n"
          ],
          "name": "stderr"
        }
      ]
    },
    {
      "metadata": {
        "id": "1ejDz_N-w7XV",
        "colab_type": "code",
        "colab": {}
      },
      "cell_type": "code",
      "source": [
        "classifier.compile(optimizer='adam', loss='binary_crossentropy', metrics=['accuracy'])"
      ],
      "execution_count": 0,
      "outputs": []
    },
    {
      "metadata": {
        "id": "vZ4kXQvjB7kp",
        "colab_type": "code",
        "outputId": "f740a0a6-0c06-4b86-9c99-d48c3d7f8efa",
        "colab": {
          "base_uri": "https://localhost:8080/",
          "height": 54
        }
      },
      "cell_type": "code",
      "source": [
        "print(type(classifier))"
      ],
      "execution_count": 28,
      "outputs": [
        {
          "output_type": "stream",
          "text": [
            "<class 'keras.engine.sequential.Sequential'>\n"
          ],
          "name": "stdout"
        }
      ]
    },
    {
      "metadata": {
        "id": "kJsN0npmw7XW",
        "colab_type": "code",
        "outputId": "fe1f7efb-5e9a-4fa5-d530-86d9e43b4a8e",
        "colab": {
          "base_uri": "https://localhost:8080/",
          "height": 3539
        }
      },
      "cell_type": "code",
      "source": [
        "classifier.fit(x_train, y_train, batch_size=10, nb_epoch=100)"
      ],
      "execution_count": 29,
      "outputs": [
        {
          "output_type": "stream",
          "text": [
            "WARNING:tensorflow:From /usr/local/lib/python3.6/dist-packages/tensorflow/python/ops/math_ops.py:3066: to_int32 (from tensorflow.python.ops.math_ops) is deprecated and will be removed in a future version.\n",
            "Instructions for updating:\n",
            "Use tf.cast instead.\n"
          ],
          "name": "stdout"
        },
        {
          "output_type": "stream",
          "text": [
            "/usr/local/lib/python3.6/dist-packages/ipykernel_launcher.py:1: UserWarning: The `nb_epoch` argument in `fit` has been renamed `epochs`.\n",
            "  \"\"\"Entry point for launching an IPython kernel.\n"
          ],
          "name": "stderr"
        },
        {
          "output_type": "stream",
          "text": [
            "Epoch 1/100\n",
            "8000/8000 [==============================] - 1s 123us/step - loss: 0.4914 - acc: 0.7962\n",
            "Epoch 2/100\n",
            "8000/8000 [==============================] - 1s 94us/step - loss: 0.4040 - acc: 0.8139\n",
            "Epoch 3/100\n",
            "8000/8000 [==============================] - 1s 98us/step - loss: 0.3725 - acc: 0.8345\n",
            "Epoch 4/100\n",
            "8000/8000 [==============================] - 1s 93us/step - loss: 0.3580 - acc: 0.8552\n",
            "Epoch 5/100\n",
            "8000/8000 [==============================] - 1s 94us/step - loss: 0.3515 - acc: 0.8576\n",
            "Epoch 6/100\n",
            "8000/8000 [==============================] - 1s 93us/step - loss: 0.3494 - acc: 0.8590\n",
            "Epoch 7/100\n",
            "8000/8000 [==============================] - 1s 91us/step - loss: 0.3469 - acc: 0.8597\n",
            "Epoch 8/100\n",
            "8000/8000 [==============================] - 1s 93us/step - loss: 0.3458 - acc: 0.8601\n",
            "Epoch 9/100\n",
            "8000/8000 [==============================] - 1s 92us/step - loss: 0.3448 - acc: 0.8620\n",
            "Epoch 10/100\n",
            "8000/8000 [==============================] - 1s 93us/step - loss: 0.3447 - acc: 0.8601\n",
            "Epoch 11/100\n",
            "8000/8000 [==============================] - 1s 98us/step - loss: 0.3434 - acc: 0.8614\n",
            "Epoch 12/100\n",
            "8000/8000 [==============================] - 1s 105us/step - loss: 0.3425 - acc: 0.8587\n",
            "Epoch 13/100\n",
            "8000/8000 [==============================] - 1s 103us/step - loss: 0.3422 - acc: 0.8601\n",
            "Epoch 14/100\n",
            "8000/8000 [==============================] - 1s 104us/step - loss: 0.3420 - acc: 0.8615\n",
            "Epoch 15/100\n",
            "8000/8000 [==============================] - 1s 103us/step - loss: 0.3414 - acc: 0.8597\n",
            "Epoch 16/100\n",
            "8000/8000 [==============================] - 1s 105us/step - loss: 0.3409 - acc: 0.8601\n",
            "Epoch 17/100\n",
            "8000/8000 [==============================] - 1s 103us/step - loss: 0.3402 - acc: 0.8609\n",
            "Epoch 18/100\n",
            "8000/8000 [==============================] - 1s 97us/step - loss: 0.3408 - acc: 0.8620\n",
            "Epoch 19/100\n",
            "8000/8000 [==============================] - 1s 92us/step - loss: 0.3397 - acc: 0.8612\n",
            "Epoch 20/100\n",
            "8000/8000 [==============================] - 1s 95us/step - loss: 0.3396 - acc: 0.8630\n",
            "Epoch 21/100\n",
            "8000/8000 [==============================] - 1s 93us/step - loss: 0.3392 - acc: 0.8614\n",
            "Epoch 22/100\n",
            "8000/8000 [==============================] - 1s 93us/step - loss: 0.3392 - acc: 0.8612\n",
            "Epoch 23/100\n",
            "8000/8000 [==============================] - 1s 94us/step - loss: 0.3390 - acc: 0.8617\n",
            "Epoch 24/100\n",
            "8000/8000 [==============================] - 1s 92us/step - loss: 0.3389 - acc: 0.8615\n",
            "Epoch 25/100\n",
            "8000/8000 [==============================] - 1s 94us/step - loss: 0.3382 - acc: 0.8629\n",
            "Epoch 26/100\n",
            "8000/8000 [==============================] - 1s 93us/step - loss: 0.3378 - acc: 0.8622\n",
            "Epoch 27/100\n",
            "8000/8000 [==============================] - 1s 92us/step - loss: 0.3382 - acc: 0.8621\n",
            "Epoch 28/100\n",
            "8000/8000 [==============================] - 1s 92us/step - loss: 0.3379 - acc: 0.8616\n",
            "Epoch 29/100\n",
            "8000/8000 [==============================] - 1s 94us/step - loss: 0.3376 - acc: 0.8605\n",
            "Epoch 30/100\n",
            "8000/8000 [==============================] - 1s 93us/step - loss: 0.3375 - acc: 0.8622\n",
            "Epoch 31/100\n",
            "8000/8000 [==============================] - 1s 95us/step - loss: 0.3373 - acc: 0.8624\n",
            "Epoch 32/100\n",
            "8000/8000 [==============================] - 1s 93us/step - loss: 0.3371 - acc: 0.8634\n",
            "Epoch 33/100\n",
            "8000/8000 [==============================] - 1s 94us/step - loss: 0.3371 - acc: 0.8632\n",
            "Epoch 34/100\n",
            "8000/8000 [==============================] - 1s 94us/step - loss: 0.3369 - acc: 0.8634\n",
            "Epoch 35/100\n",
            "8000/8000 [==============================] - 1s 95us/step - loss: 0.3366 - acc: 0.8624\n",
            "Epoch 36/100\n",
            "8000/8000 [==============================] - 1s 93us/step - loss: 0.3368 - acc: 0.8631\n",
            "Epoch 37/100\n",
            "8000/8000 [==============================] - 1s 92us/step - loss: 0.3365 - acc: 0.8634\n",
            "Epoch 38/100\n",
            "8000/8000 [==============================] - 1s 93us/step - loss: 0.3364 - acc: 0.8620\n",
            "Epoch 39/100\n",
            "8000/8000 [==============================] - 1s 93us/step - loss: 0.3364 - acc: 0.8620\n",
            "Epoch 40/100\n",
            "8000/8000 [==============================] - 1s 93us/step - loss: 0.3369 - acc: 0.8622\n",
            "Epoch 41/100\n",
            "8000/8000 [==============================] - 1s 92us/step - loss: 0.3364 - acc: 0.8614\n",
            "Epoch 42/100\n",
            "8000/8000 [==============================] - 1s 92us/step - loss: 0.3362 - acc: 0.8625\n",
            "Epoch 43/100\n",
            "8000/8000 [==============================] - 1s 92us/step - loss: 0.3360 - acc: 0.8644\n",
            "Epoch 44/100\n",
            "8000/8000 [==============================] - 1s 92us/step - loss: 0.3363 - acc: 0.8617\n",
            "Epoch 45/100\n",
            "8000/8000 [==============================] - 1s 93us/step - loss: 0.3360 - acc: 0.8637\n",
            "Epoch 46/100\n",
            "8000/8000 [==============================] - 1s 94us/step - loss: 0.3365 - acc: 0.8631\n",
            "Epoch 47/100\n",
            "8000/8000 [==============================] - 1s 93us/step - loss: 0.3356 - acc: 0.8630\n",
            "Epoch 48/100\n",
            "8000/8000 [==============================] - 1s 95us/step - loss: 0.3358 - acc: 0.8630\n",
            "Epoch 49/100\n",
            "8000/8000 [==============================] - 1s 97us/step - loss: 0.3353 - acc: 0.8634\n",
            "Epoch 50/100\n",
            "8000/8000 [==============================] - 1s 93us/step - loss: 0.3363 - acc: 0.8634\n",
            "Epoch 51/100\n",
            "8000/8000 [==============================] - 1s 95us/step - loss: 0.3353 - acc: 0.8634\n",
            "Epoch 52/100\n",
            "8000/8000 [==============================] - 1s 93us/step - loss: 0.3357 - acc: 0.8630\n",
            "Epoch 53/100\n",
            "8000/8000 [==============================] - 1s 96us/step - loss: 0.3362 - acc: 0.8630\n",
            "Epoch 54/100\n",
            "8000/8000 [==============================] - 1s 94us/step - loss: 0.3356 - acc: 0.8636\n",
            "Epoch 55/100\n",
            "8000/8000 [==============================] - 1s 94us/step - loss: 0.3355 - acc: 0.8627\n",
            "Epoch 56/100\n",
            "8000/8000 [==============================] - 1s 99us/step - loss: 0.3356 - acc: 0.8637\n",
            "Epoch 57/100\n",
            "8000/8000 [==============================] - 1s 96us/step - loss: 0.3356 - acc: 0.8629\n",
            "Epoch 58/100\n",
            "8000/8000 [==============================] - 1s 95us/step - loss: 0.3358 - acc: 0.8624\n",
            "Epoch 59/100\n",
            "8000/8000 [==============================] - 1s 95us/step - loss: 0.3353 - acc: 0.8606\n",
            "Epoch 60/100\n",
            "8000/8000 [==============================] - 1s 98us/step - loss: 0.3359 - acc: 0.8616\n",
            "Epoch 61/100\n",
            "8000/8000 [==============================] - 1s 91us/step - loss: 0.3352 - acc: 0.8627\n",
            "Epoch 62/100\n",
            "8000/8000 [==============================] - 1s 92us/step - loss: 0.3353 - acc: 0.8617\n",
            "Epoch 63/100\n",
            "8000/8000 [==============================] - 1s 93us/step - loss: 0.3356 - acc: 0.8634\n",
            "Epoch 64/100\n",
            "8000/8000 [==============================] - 1s 92us/step - loss: 0.3351 - acc: 0.8642\n",
            "Epoch 65/100\n",
            "8000/8000 [==============================] - 1s 94us/step - loss: 0.3349 - acc: 0.8635\n",
            "Epoch 66/100\n",
            "8000/8000 [==============================] - 1s 93us/step - loss: 0.3351 - acc: 0.8639\n",
            "Epoch 67/100\n",
            "8000/8000 [==============================] - 1s 93us/step - loss: 0.3351 - acc: 0.8634\n",
            "Epoch 68/100\n",
            "8000/8000 [==============================] - 1s 93us/step - loss: 0.3351 - acc: 0.8632\n",
            "Epoch 69/100\n",
            "8000/8000 [==============================] - 1s 92us/step - loss: 0.3346 - acc: 0.8627\n",
            "Epoch 70/100\n",
            "8000/8000 [==============================] - 1s 94us/step - loss: 0.3349 - acc: 0.8632\n",
            "Epoch 71/100\n",
            "8000/8000 [==============================] - 1s 93us/step - loss: 0.3345 - acc: 0.8632\n",
            "Epoch 72/100\n",
            "8000/8000 [==============================] - 1s 93us/step - loss: 0.3352 - acc: 0.8637\n",
            "Epoch 73/100\n",
            "8000/8000 [==============================] - 1s 94us/step - loss: 0.3352 - acc: 0.8642\n",
            "Epoch 74/100\n",
            "8000/8000 [==============================] - 1s 93us/step - loss: 0.3349 - acc: 0.8619\n",
            "Epoch 75/100\n",
            "8000/8000 [==============================] - 1s 96us/step - loss: 0.3351 - acc: 0.8635\n",
            "Epoch 76/100\n",
            "8000/8000 [==============================] - 1s 93us/step - loss: 0.3354 - acc: 0.8636\n",
            "Epoch 77/100\n",
            "8000/8000 [==============================] - 1s 93us/step - loss: 0.3347 - acc: 0.8635\n",
            "Epoch 78/100\n",
            "8000/8000 [==============================] - 1s 94us/step - loss: 0.3345 - acc: 0.8639\n",
            "Epoch 79/100\n",
            "8000/8000 [==============================] - 1s 97us/step - loss: 0.3354 - acc: 0.8626\n",
            "Epoch 80/100\n",
            "8000/8000 [==============================] - 1s 94us/step - loss: 0.3339 - acc: 0.8627\n",
            "Epoch 81/100\n",
            "8000/8000 [==============================] - 1s 94us/step - loss: 0.3346 - acc: 0.8632\n",
            "Epoch 82/100\n",
            "8000/8000 [==============================] - 1s 97us/step - loss: 0.3344 - acc: 0.8635\n",
            "Epoch 83/100\n",
            "8000/8000 [==============================] - 1s 93us/step - loss: 0.3348 - acc: 0.8622\n",
            "Epoch 84/100\n",
            "8000/8000 [==============================] - 1s 95us/step - loss: 0.3345 - acc: 0.8620\n",
            "Epoch 85/100\n",
            "8000/8000 [==============================] - 1s 97us/step - loss: 0.3341 - acc: 0.8645\n",
            "Epoch 86/100\n",
            "8000/8000 [==============================] - 1s 92us/step - loss: 0.3340 - acc: 0.8659\n",
            "Epoch 87/100\n",
            "8000/8000 [==============================] - 1s 93us/step - loss: 0.3348 - acc: 0.8627\n",
            "Epoch 88/100\n",
            "8000/8000 [==============================] - 1s 92us/step - loss: 0.3349 - acc: 0.8614\n",
            "Epoch 89/100\n",
            "8000/8000 [==============================] - 1s 93us/step - loss: 0.3343 - acc: 0.8619\n",
            "Epoch 90/100\n",
            "8000/8000 [==============================] - 1s 93us/step - loss: 0.3348 - acc: 0.8614\n",
            "Epoch 91/100\n",
            "8000/8000 [==============================] - 1s 94us/step - loss: 0.3343 - acc: 0.8630\n",
            "Epoch 92/100\n",
            "8000/8000 [==============================] - 1s 94us/step - loss: 0.3348 - acc: 0.8611\n",
            "Epoch 93/100\n",
            "8000/8000 [==============================] - 1s 93us/step - loss: 0.3334 - acc: 0.8639\n",
            "Epoch 94/100\n",
            "8000/8000 [==============================] - 1s 93us/step - loss: 0.3352 - acc: 0.8639\n",
            "Epoch 95/100\n",
            "8000/8000 [==============================] - 1s 93us/step - loss: 0.3340 - acc: 0.8650\n",
            "Epoch 96/100\n",
            "8000/8000 [==============================] - 1s 93us/step - loss: 0.3343 - acc: 0.8622\n",
            "Epoch 97/100\n",
            "8000/8000 [==============================] - 1s 94us/step - loss: 0.3336 - acc: 0.8617\n",
            "Epoch 98/100\n",
            "8000/8000 [==============================] - 1s 98us/step - loss: 0.3343 - acc: 0.8645\n",
            "Epoch 99/100\n",
            "8000/8000 [==============================] - 1s 93us/step - loss: 0.3342 - acc: 0.8646\n",
            "Epoch 100/100\n",
            "8000/8000 [==============================] - 1s 94us/step - loss: 0.3348 - acc: 0.8631\n"
          ],
          "name": "stdout"
        },
        {
          "output_type": "execute_result",
          "data": {
            "text/plain": [
              "<keras.callbacks.History at 0x7fa7d4108cc0>"
            ]
          },
          "metadata": {
            "tags": []
          },
          "execution_count": 29
        }
      ]
    },
    {
      "metadata": {
        "id": "fs7NWCb25BL3",
        "colab_type": "code",
        "colab": {}
      },
      "cell_type": "code",
      "source": [
        "y_pred = classifier.predict(x_test)"
      ],
      "execution_count": 0,
      "outputs": []
    },
    {
      "metadata": {
        "id": "Mwv0a5ZN6lNd",
        "colab_type": "text"
      },
      "cell_type": "markdown",
      "source": [
        "## Evaluating the model"
      ]
    },
    {
      "metadata": {
        "id": "QBElZgPk6cDW",
        "colab_type": "code",
        "colab": {}
      },
      "cell_type": "code",
      "source": [
        "from sklearn.metrics import confusion_matrix"
      ],
      "execution_count": 0,
      "outputs": []
    },
    {
      "metadata": {
        "id": "8xUn4W4y6hF8",
        "colab_type": "code",
        "outputId": "8f8647f3-5fc1-4f45-8571-51385dfdc411",
        "colab": {
          "base_uri": "https://localhost:8080/",
          "height": 85
        }
      },
      "cell_type": "code",
      "source": [
        "print(y_pred[:4])"
      ],
      "execution_count": 32,
      "outputs": [
        {
          "output_type": "stream",
          "text": [
            "[[0.164]\n",
            " [0.29 ]\n",
            " [0.13 ]\n",
            " [0.053]]\n"
          ],
          "name": "stdout"
        }
      ]
    },
    {
      "metadata": {
        "id": "KVUdB8uR6zL-",
        "colab_type": "code",
        "colab": {}
      },
      "cell_type": "code",
      "source": [
        "y_pred = y_pred > 0.5"
      ],
      "execution_count": 0,
      "outputs": []
    },
    {
      "metadata": {
        "id": "qJ0p80Hn65YD",
        "colab_type": "code",
        "colab": {}
      },
      "cell_type": "code",
      "source": [
        "confusion_mat = confusion_matrix(y_test, y_pred)"
      ],
      "execution_count": 0,
      "outputs": []
    },
    {
      "metadata": {
        "id": "S4DcbfAj8NFk",
        "colab_type": "code",
        "colab": {}
      },
      "cell_type": "code",
      "source": [
        "test_accuracy = (confusion_mat[0, 0] + confusion_mat[1,1])/np.sum(confusion_mat)"
      ],
      "execution_count": 0,
      "outputs": []
    },
    {
      "metadata": {
        "id": "uUS3oDfJ8j8Y",
        "colab_type": "code",
        "outputId": "2cc3398d-b5e3-42a5-9004-ff8bc16d84da",
        "colab": {
          "base_uri": "https://localhost:8080/",
          "height": 34
        }
      },
      "cell_type": "code",
      "source": [
        "\n",
        "test_accuracy"
      ],
      "execution_count": 36,
      "outputs": [
        {
          "output_type": "execute_result",
          "data": {
            "text/plain": [
              "0.8645"
            ]
          },
          "metadata": {
            "tags": []
          },
          "execution_count": 36
        }
      ]
    },
    {
      "metadata": {
        "id": "NxGc1wcx8ptI",
        "colab_type": "text"
      },
      "cell_type": "markdown",
      "source": [
        "## Assignment"
      ]
    },
    {
      "metadata": {
        "id": "h-tKR7XqAu71",
        "colab_type": "text"
      },
      "cell_type": "markdown",
      "source": [
        "### Test example is represented with following set of attributes:\n",
        "\n",
        "Geography: France <br>\n",
        "Credit score: 600<br>\n",
        "Gender: Male<br>\n",
        "Age: 40<br>\n",
        "Tenure: 3<br>\n",
        "Balance: 60000<br>\n",
        "Number of Products: 2<br>\n",
        "Has Credit Card: Yes<br>\n",
        "Is Active Member: Yes<br>\n",
        "Estimated Salary: 50000<br>\n"
      ]
    },
    {
      "metadata": {
        "id": "T0-sujvFCnNs",
        "colab_type": "text"
      },
      "cell_type": "markdown",
      "source": [
        "From the dataset used during training phase, we can see that France is represented by the onehotencoded dummy variable values (0, 0) and Male is represented by 1 (labelencoder). Also, in the training dataset, Has Credit Card contains values from the set {0, 1} (0-No, 1-Yes)."
      ]
    },
    {
      "metadata": {
        "id": "Kkcbh5XL8rhL",
        "colab_type": "code",
        "outputId": "ae8f7a65-6782-4c41-8f83-e290cb294431",
        "colab": {
          "base_uri": "https://localhost:8080/",
          "height": 71
        }
      },
      "cell_type": "code",
      "source": [
        "test_example = np.array([[0, 0, 600, 1, 40, 3, 60000, 2, 1, 1, 50000]])\n",
        "test_example = standard_scaler.transform(test_example)"
      ],
      "execution_count": 51,
      "outputs": [
        {
          "output_type": "stream",
          "text": [
            "/usr/local/lib/python3.6/dist-packages/sklearn/utils/validation.py:595: DataConversionWarning: Data with input dtype int64 was converted to float64 by StandardScaler.\n",
            "  warnings.warn(msg, DataConversionWarning)\n"
          ],
          "name": "stderr"
        }
      ]
    },
    {
      "metadata": {
        "id": "jEoxwBvxEwgr",
        "colab_type": "code",
        "colab": {}
      },
      "cell_type": "code",
      "source": [
        "test_pred = classifier.predict(test_example)"
      ],
      "execution_count": 0,
      "outputs": []
    },
    {
      "metadata": {
        "id": "SQNf7bo_E4v0",
        "colab_type": "code",
        "outputId": "864657d7-5de3-4aff-85ce-98dc5e397f41",
        "colab": {
          "base_uri": "https://localhost:8080/",
          "height": 34
        }
      },
      "cell_type": "code",
      "source": [
        "test_pred"
      ],
      "execution_count": 39,
      "outputs": [
        {
          "output_type": "execute_result",
          "data": {
            "text/plain": [
              "array([[0.022]], dtype=float32)"
            ]
          },
          "metadata": {
            "tags": []
          },
          "execution_count": 39
        }
      ]
    },
    {
      "metadata": {
        "id": "WAeMcmakFClD",
        "colab_type": "code",
        "outputId": "324ce5df-d810-4bc5-95ea-32ea17a719e7",
        "colab": {
          "base_uri": "https://localhost:8080/",
          "height": 34
        }
      },
      "cell_type": "code",
      "source": [
        "\n",
        "test_pred = test_pred>0.5\n",
        "print(test_pred)"
      ],
      "execution_count": 40,
      "outputs": [
        {
          "output_type": "stream",
          "text": [
            "[[False]]\n"
          ],
          "name": "stdout"
        }
      ]
    },
    {
      "metadata": {
        "id": "1rVKOqHzipmt",
        "colab_type": "text"
      },
      "cell_type": "markdown",
      "source": [
        "Alternatively, and preferably, we transform the row using the labelencoder and onehotencoder fitted previously on the dataset. This is actually what we are supposed to be doing."
      ]
    },
    {
      "metadata": {
        "id": "eIDmQMWUi7Xx",
        "colab_type": "code",
        "colab": {}
      },
      "cell_type": "code",
      "source": [
        "test_example = np.array([[600, 'France', 'Male', 40, 3, 60000, 2, 1, 1, 50000]])\n",
        "test_example[:, 1] = labelencoder_X_country.transform(test_example[:, 1])"
      ],
      "execution_count": 0,
      "outputs": []
    },
    {
      "metadata": {
        "id": "TBeTAmFelZvs",
        "colab_type": "code",
        "colab": {
          "base_uri": "https://localhost:8080/",
          "height": 51
        },
        "outputId": "e21b04ab-e439-48c5-b8a3-81d0586fa452"
      },
      "cell_type": "code",
      "source": [
        "print(test_example[:, 1], test_example, sep='\\n')"
      ],
      "execution_count": 42,
      "outputs": [
        {
          "output_type": "stream",
          "text": [
            "['0']\n",
            "[['600' '0' 'Male' '40' '3' '60000' '2' '1' '1' '50000']]\n"
          ],
          "name": "stdout"
        }
      ]
    },
    {
      "metadata": {
        "id": "FUKFhjwsnEq5",
        "colab_type": "code",
        "colab": {}
      },
      "cell_type": "code",
      "source": [
        "test_example[:, 2] = labelencoder_X_gender.transform(test_example[:, 2])"
      ],
      "execution_count": 0,
      "outputs": []
    },
    {
      "metadata": {
        "id": "k9PNhBApnoGF",
        "colab_type": "code",
        "colab": {}
      },
      "cell_type": "code",
      "source": [
        "test_example = onehotencoder.transform(test_example)"
      ],
      "execution_count": 0,
      "outputs": []
    },
    {
      "metadata": {
        "id": "fCbQdQlIpfeV",
        "colab_type": "code",
        "colab": {}
      },
      "cell_type": "code",
      "source": [
        "test_example = test_example.toarray()"
      ],
      "execution_count": 0,
      "outputs": []
    },
    {
      "metadata": {
        "id": "rq7mpzWwpove",
        "colab_type": "code",
        "colab": {
          "base_uri": "https://localhost:8080/",
          "height": 51
        },
        "outputId": "ec339513-056c-4ccc-a4ae-82be92138cc9"
      },
      "cell_type": "code",
      "source": [
        "test_example"
      ],
      "execution_count": 56,
      "outputs": [
        {
          "output_type": "execute_result",
          "data": {
            "text/plain": [
              "array([[    1.,     0.,     0.,   600.,     1.,    40.,     3., 60000.,\n",
              "            2.,     1.,     1., 50000.]])"
            ]
          },
          "metadata": {
            "tags": []
          },
          "execution_count": 56
        }
      ]
    },
    {
      "metadata": {
        "id": "H0yGxWJlprO_",
        "colab_type": "code",
        "colab": {}
      },
      "cell_type": "code",
      "source": [
        "### dummy variable trap elimination for this example\n",
        "test_example = test_example[:, 1:]"
      ],
      "execution_count": 0,
      "outputs": []
    },
    {
      "metadata": {
        "id": "1e2Ho52_pz-3",
        "colab_type": "code",
        "colab": {}
      },
      "cell_type": "code",
      "source": [
        "test_example\n",
        "test_example = standard_scaler.transform(test_example)"
      ],
      "execution_count": 0,
      "outputs": []
    },
    {
      "metadata": {
        "id": "bhGRLNvbp3JH",
        "colab_type": "code",
        "colab": {
          "base_uri": "https://localhost:8080/",
          "height": 34
        },
        "outputId": "000986bc-ec88-4dd2-eb35-6d485bc271bf"
      },
      "cell_type": "code",
      "source": [
        "test_pred = classifier.predict(test_example)\n",
        "print(test_pred, test_pred>0.5)"
      ],
      "execution_count": 59,
      "outputs": [
        {
          "output_type": "stream",
          "text": [
            "[[0.022]] [[False]]\n"
          ],
          "name": "stdout"
        }
      ]
    },
    {
      "metadata": {
        "id": "rrypI6q5Ghz7",
        "colab_type": "text"
      },
      "cell_type": "markdown",
      "source": [
        "## Transition to the next topic\n",
        "Retraining this very same model again, without changing any piece of code, may result in different training and test accuracies because of the fact that the weight initialisation is done randomly (from a uniform distribution in this case). We do not have any feature that can allow us to fix a 'seed value' (like we did in train_test_split function) to control the way random initialisation is done.\n",
        "\n",
        "It turns out that because of the above reason, evaluating a model the way we've done above is not the right way to do it. In the next model, we shall have a look on how the performance of models can/should be evaluated."
      ]
    }
  ]
}